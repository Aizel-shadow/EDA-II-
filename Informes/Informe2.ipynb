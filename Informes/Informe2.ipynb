{
 "cells": [
  {
   "cell_type": "markdown",
   "id": "3860db0a",
   "metadata": {},
   "source": []
  },
  {
   "cell_type": "markdown",
   "id": "60b889af",
   "metadata": {},
   "source": [
    "<center>ESCUELA POLITÉCNICA NACIONAL</center>  \n",
    "<center>ESTRUCTURA DE DATOS Y ALGORITMOS II </center>\n",
    "<center>INFORME 2</center>\n",
    "<center>GRAFO EN GEPHI</center>"
   ]
  },
  {
   "cell_type": "markdown",
   "id": "1de703a4",
   "metadata": {},
   "source": [
    "#### **1. OBJETIVOS**\n",
    "\n",
    "* JHK\n",
    "* JHK\n",
    "\n",
    "#### **2. INTRODUCCIÓN**\n",
    "\n",
    "\n",
    "\n",
    "#### **3. PROBLEMAS PLANTEADOS Y SOLUCIÓN** \n",
    "\n",
    "*1. Trabajar con un grafo tomado de https://github.com/mathbeveridge/asoiaf/tree/master*\n",
    "   \n",
    "*2. Visualizar la data en Gephi* \n",
    "\n",
    "Se escogió : https://github.com/mathbeveridge/asoiaf/blob/master/data/asoiaf-book1-edges.csv \n",
    "\n",
    "![Grafo](1.png)\n",
    "\n",
    "*3. Aplicar algoritmo de distribución*\n",
    "\n",
    "![Grafo](2.png)\n",
    "\n",
    "*4. Personalizar la apariencia*\n",
    "\n",
    "![Grafo](5.png)\n",
    "\n",
    "*5. Calcular el grado (con y sin pesos)*\n",
    "\n",
    "- CON PESO\n",
    "  \n",
    "![Grafo](3.png)\n",
    "\n",
    "- SIN PESO\n",
    "\n",
    "![Grafo](4.png)\n",
    "\n",
    "*6. Detectar comunidades*\n",
    "\n",
    "![Grafo](6.png)\n",
    "\n",
    "#### **4. CONCLUSIONES**\n",
    "\n",
    "#### **5. REFERENCIAS BIBLIOGRÁFICAS (con formato IEEE o APA)**\n",
    "\n",
    "\n",
    "#### **6.DECLARACIÓN DE USO DE IA Y PROMPTS**\n",
    "\n",
    "6.1\tHerramienta utilizada: indica el nombre de la herramienta de IA empleada (por ejemplo, ChatGPT, Claude, DeepL, Grammarly).\n",
    " \n",
    "6.2\tPropósito del uso: describe brevemente para qué utilizaste la herramienta de IA (por ejemplo, generación de ideas, elaboración de esquemas, redacción de borradores, revisión de gramática o traducción). \n",
    "\n",
    "6.3\tPrompts o instrucciones proporcionadas: incluye los comandos o preguntas específicos que se ingresaste en la herramienta de IA. Puede ser el link al conjunto de prompts.\n",
    "\n",
    "6.4\tUso del contenido generado: explica cómo se integró el contenido generado por la IA en el trabajo final (por ejemplo, si lo utilizaste directamente, lo modificaste o lo empleaste como referencia). \n",
    "\n",
    "6.5\tRevisión y edición: indica si revisaste o editaste el contenido generado por la IA antes de su inclusión en el trabajo. \n",
    "\n",
    "6.6\tLimitaciones y consideraciones éticas: menciona cualquier limitación identificada en el uso de la herramienta de IA y las consideraciones éticas tenidas en cuenta. \n"
   ]
  }
 ],
 "metadata": {
  "kernelspec": {
   "display_name": "Python 3",
   "language": "python",
   "name": "python3"
  },
  "language_info": {
   "name": "python",
   "version": "3.13.7"
  }
 },
 "nbformat": 4,
 "nbformat_minor": 5
}
