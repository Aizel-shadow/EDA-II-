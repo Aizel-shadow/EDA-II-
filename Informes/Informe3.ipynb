{
 "cells": [
  {
   "attachments": {
    "image.png": {
     "image/png": "[encoded data removed]"
    }
   },
   "cell_type": "markdown",
   "id": "ba320f9d",
   "metadata": {},
   "source": [
    "![image.png](attachment:image.png)\n",
    "\n",
    "# ***ENTORNO PYTHON***\n",
    "\n",
    "***1. OBJETIVOS***\n",
    "\n",
    "* Conocer los fundamentos del lenguaje de programación Python, incluyendo la declaración de variables, operadores básicos y principales herramientas para controlar el flujo del programa\n",
    "\n",
    "***2. INTRODUCCIÓN***\n",
    "\n",
    "Python es considerado como uno de los lenguajes de programación más extendidos y fundamentales en los campos de la computación y la ciencia de datos. JupyterLab es una herramienta esencial basada en navegador que permite a los desarrolladores escribir, ejecutar código y mezclarlo con texto e imágenes, en si es el medio preferido en la comunidad de ciencia de datos para realizar análisis y comunicar resultados de forma reproducible.\n",
    "\n",
    "En este entorno de trabajo permite gestionar archivos y notebooks de manera conveniente, facilitando la escritura, ejecución y modificación del código. La unidad de trabajo es una celda en la que se ingresan y evalúan fragmentos de código. \n",
    "\n",
    "***3. PROBLEMAS PLANTEADOS Y SOLUCIÓN***\n",
    "\n",
    "* Mira el video en el link:\n",
    "https://www.youtube.com/watch?v=RSJrBEhdZxw\n",
    "\n",
    "* Describe en dos párrafos de qué se trata el video, colocando las ideas\n",
    "principales\n",
    "\n",
    "El video tirulado como \"Qué son los algoritmos y cómo aprenden de nosotros\", explica que un algoritmo es una secuencia de instrucciones programadas para resolver un problema. En la computación moderna, los algoritmos se escriben en código y son fundamentales para ordenar grandes cantidades de datos de manera eficiente. Un ejemplo en la explicacipon es como utiliza el \"QuicSort\" como un algoritmo de ordenación muy eficiente, que permite a servicios de internet como Google, catalogar millones de páginas para ofrecer resultados de búsqueda eficaces. Aunque más allá de la clasificación, los algoritmos modernos emplean el machine learning para aprender de los datos, lo que les permite hacer predicciones y tomar decisiones. \n",
    "\n",
    "El machine learning o en español aprendizaje automático, es una parte esencial de la inteligencia artificial, ya que se basa en la retroalimentación: el algoritmo procesa las interacciones y ajusta sus predicciones, cuantos más datos recibe y procesa, más preciso se vuelve. Sin embargo, esta no está exenta de problemas, el hecho de que los algoritmos nos muestren solo el contenido que crees que nos interesa puede llevarnos a una \"burbuja\" que nos ofrece una visión parcial de la realidad, reforzando nuestros prejuicios y limitando la exposición a ideas diferentes.  \n",
    "\n",
    "* ¿Qué es un algoritmo y qué algoritmos se mencionan en el video?\n",
    "  \n",
    "Un algoritmo es una secuencia de instrucciones o pasos para resolver un probleJma, en la computación, es un conjunto de órdenes escritas en un lenguaje de programación para llegar a un resultado concreto. \n",
    "\n",
    "***Algoritmos mencionados en el video***\n",
    "\n",
    "1. Algoritmo de Ordenación (Sorting Algorithm) : Se usa para clasificar o poner en orden en una lista. \n",
    "   \n",
    "2. QuickSort : Se usa en programación para ordenar grandes cantidades de datos más rápido que otros métodos.\n",
    "\n",
    "* Describe a qué se refiere el problema de la burbuja\n",
    "\n",
    "Los algoritmos de plataformas en línea, como redes sociales y buscadores, muestran solo contenido que creen que queremos ver o con el que es más probable que interactuemos, basándose en el bistorial y preferencias.\n",
    "\n",
    "* Responde: ¿somos conscientes del impacto real que tienen los\n",
    "algoritmos en la sociedad?\n",
    "\n",
    "Puede que los algoritmos estén presentes en nuestra vida, desde la búsqueda en internet hasta las recomendaciones de streaming, pero nosotros como seres humanos no estamos completamente conscientes del impacto real y profundo en la sociedad. La falta de transparencia en cómo están programados (caja negra) y el hecho de que nos encierran en burbujas de filtro, que limitan nuestra exposición a ideas diferentes, hacen que su influencia en nuestras opiniones y comportamientos sea sutil, constante y a menudo pasa inadvertida. "
   ]
  },
  {
   "cell_type": "markdown",
   "id": "94cfe8c8",
   "metadata": {},
   "source": [
    "--------------------------------------------------------------------------------------------------------------------------------------------------------------------------"
   ]
  },
  {
   "cell_type": "markdown",
   "id": "b805b45c",
   "metadata": {},
   "source": [
    "## ***EJERCICIOS***"
   ]
  },
  {
   "cell_type": "markdown",
   "id": "9f103115",
   "metadata": {},
   "source": [
    "--------------------------------------------------------------------------------------------------------------------------------------------------------------------------"
   ]
  },
  {
   "cell_type": "markdown",
   "id": "5fd3c6d1",
   "metadata": {},
   "source": [
    "*3.1*\n",
    "\n",
    "a. 100/3\n",
    "\n",
    "El operador \"/\" realiza una división verdadera, que devuelve un número de punto flotante (decimal) como resultado. "
   ]
  },
  {
   "cell_type": "code",
   "execution_count": 40,
   "id": "f5ca3856",
   "metadata": {},
   "outputs": [
    {
     "data": {
      "text/plain": [
       "33.333333333333336"
      ]
     },
     "execution_count": 40,
     "metadata": {},
     "output_type": "execute_result"
    }
   ],
   "source": [
    "100/3"
   ]
  },
  {
   "cell_type": "markdown",
   "id": "c95b371e",
   "metadata": {},
   "source": [
    "---------------------------------------------------------------------------------------------------------------------------------------------------------------------------"
   ]
  },
  {
   "cell_type": "markdown",
   "id": "948c0a12",
   "metadata": {},
   "source": [
    "*3.2*\n",
    "\n",
    "b. 100 // 3\n",
    "\n",
    "El operador \"//\" realiza una división entera o también llamado floor division, este devuelve únicamente la parte entera del cociente, descartando los decimales."
   ]
  },
  {
   "cell_type": "code",
   "execution_count": 41,
   "id": "a59ce4d0",
   "metadata": {},
   "outputs": [
    {
     "data": {
      "text/plain": [
       "33"
      ]
     },
     "execution_count": 41,
     "metadata": {},
     "output_type": "execute_result"
    }
   ],
   "source": [
    "100 // 3"
   ]
  },
  {
   "cell_type": "markdown",
   "id": "c115bc73",
   "metadata": {},
   "source": [
    "---------------------------------------------------------------------------------------------------------------------------------------------------------------------------"
   ]
  },
  {
   "cell_type": "markdown",
   "id": "52fde33e",
   "metadata": {},
   "source": [
    "*3.3*\n",
    "\n",
    "c. 100/0\n",
    "\n",
    "En esta expresión se produce un error de tiempo de ejecución, el error \"ZeroDivisorError\" indica que se intentó realizar una división entre cero, lo cual es una operación matemáticamente indefinida y también imposible de realizar."
   ]
  },
  {
   "cell_type": "code",
   "execution_count": 42,
   "id": "f5f6b1c9",
   "metadata": {},
   "outputs": [
    {
     "ename": "ZeroDivisionError",
     "evalue": "division by zero",
     "output_type": "error",
     "traceback": [
      "\u001b[31m---------------------------------------------------------------------------\u001b[39m",
      "\u001b[31mZeroDivisionError\u001b[39m                         Traceback (most recent call last)",
      "\u001b[36mCell\u001b[39m\u001b[36m \u001b[39m\u001b[32mIn[42]\u001b[39m\u001b[32m, line 1\u001b[39m\n\u001b[32m----> \u001b[39m\u001b[32m1\u001b[39m \u001b[32;43m100\u001b[39;49m\u001b[43m/\u001b[49m\u001b[32;43m0\u001b[39;49m\n",
      "\u001b[31mZeroDivisionError\u001b[39m: division by zero"
     ]
    }
   ],
   "source": [
    "100/0"
   ]
  },
  {
   "cell_type": "markdown",
   "id": "5a43fc61",
   "metadata": {},
   "source": [
    "--------------------------------------------------------------------------------------------------------------------------------------------------------------------------"
   ]
  },
  {
   "cell_type": "markdown",
   "id": "ba2f8499",
   "metadata": {},
   "source": [
    "*3.4*\n",
    "\n",
    "d. 100 // 0 \n",
    "\n",
    "La división entera produce un error cuando el divisor es cero, el mensaje especifica que se trata de una división entera o módulo por cero."
   ]
  },
  {
   "cell_type": "code",
   "execution_count": null,
   "id": "c4628fdc",
   "metadata": {},
   "outputs": [
    {
     "ename": "ZeroDivisionError",
     "evalue": "integer division or modulo by zero",
     "output_type": "error",
     "traceback": [
      "\u001b[31m---------------------------------------------------------------------------\u001b[39m",
      "\u001b[31mZeroDivisionError\u001b[39m                         Traceback (most recent call last)",
      "\u001b[36mCell\u001b[39m\u001b[36m \u001b[39m\u001b[32mIn[4]\u001b[39m\u001b[32m, line 1\u001b[39m\n\u001b[32m----> \u001b[39m\u001b[32m1\u001b[39m \u001b[32;43m100\u001b[39;49m\u001b[43m \u001b[49m\u001b[43m/\u001b[49m\u001b[43m/\u001b[49m\u001b[43m \u001b[49m\u001b[32;43m0\u001b[39;49m\n",
      "\u001b[31mZeroDivisionError\u001b[39m: integer division or modulo by zero"
     ]
    }
   ],
   "source": [
    "100 // 0"
   ]
  },
  {
   "cell_type": "markdown",
   "id": "91288245",
   "metadata": {},
   "source": [
    "--------------------------------------------------------------------------------------------------------------------------------------------------------------------------"
   ]
  },
  {
   "cell_type": "markdown",
   "id": "e71a7076",
   "metadata": {},
   "source": [
    "*3.5*\n",
    "\n",
    "e. -10 / 3\n",
    "\n",
    "La división verdadera funciona normalmente con números negativos, así devolviendo un resultado decimal negativo, mientras que el operador \"/\" mantiene el signo del cociente esto se debe a las reglas de la aritmética."
   ]
  },
  {
   "cell_type": "code",
   "execution_count": null,
   "id": "c6a55460",
   "metadata": {},
   "outputs": [
    {
     "data": {
      "text/plain": [
       "-3.3333333333333335"
      ]
     },
     "execution_count": 5,
     "metadata": {},
     "output_type": "execute_result"
    }
   ],
   "source": [
    "-10 / 3"
   ]
  },
  {
   "cell_type": "markdown",
   "id": "1c01c6c1",
   "metadata": {},
   "source": [
    "--------------------------------------------------------------------------------------------------------------------------------------------------------------------------"
   ]
  },
  {
   "cell_type": "markdown",
   "id": "4f0eaedd",
   "metadata": {},
   "source": [
    "*3.6*\n",
    "\n",
    "f. -10 // 3\n",
    "\n",
    "En este ejercicio la división entera con números negativos redondea hacia el número entero más pequeño (floor)m no hacia cero, por eso el resultado es -4 y no -3, esto es consistente con la función floor. "
   ]
  },
  {
   "cell_type": "code",
   "execution_count": null,
   "id": "683952d6",
   "metadata": {},
   "outputs": [
    {
     "data": {
      "text/plain": [
       "-4"
      ]
     },
     "execution_count": 6,
     "metadata": {},
     "output_type": "execute_result"
    }
   ],
   "source": [
    "-10 // 3"
   ]
  },
  {
   "cell_type": "markdown",
   "id": "6233c9d2",
   "metadata": {},
   "source": [
    "--------------------------------------------------------------------------------------------------------------------------------------------------------------------------"
   ]
  },
  {
   "cell_type": "markdown",
   "id": "6ecc255a",
   "metadata": {},
   "source": [
    "***4. CONCLUSIONES***\n",
    "\n",
    "- El operador \"/\" siempre devuelve un resultado de punto flotante (float), mientras que \"//\" realiza un redondeo hacia abajo (hacia el infinito negativo) para obtener el número entero más alto que no es mayor que el resultado, es relevante pero no intuitivo cuando trabaja con números negativos.\n",
    "\n",
    "- Cualquier intento de dividir por cero, ya sea usando la división verdadera o de piso, esto provoca un error de tiempo de ejecución, lo cual muestra que aunque Python sea flexible con los tipos de datos, este respeta las restricciones matemáticas. \n",
    "\n",
    "***5. REFERENCIAS BIBLIOGRÁFICAS***\n",
    "\n",
    "- Recalde, L. (2025). Lab Intro Python [Guía de laboratorio para Estructuras de Datos y Algoritmos II]. Escuela Politécnica Nacional, Computación.\n",
    "\n",
    "***6. DECLARACIÓN DE USO DE IA Y PROMPTS*** \n",
    "\n",
    "*6.1\tHerramienta utilizada:* Claude \n",
    "\n",
    "*6.2\tPropósito del uso:* Para conocer los operadores que estaban asignados en los ejercicios propuestos y consultar acerca de un error que se mostro en dos ejercicios. \n",
    "\n",
    "*6.3\tPrompts o instrucciones proporcionadas:*\n",
    "\n",
    "    - Explícame de que trata estos operadores \"/\" y \"//\"\n",
    "  \n",
    "    - Y que significa esto \"ZeroDivisionError\"\n",
    "\n",
    "link: https://claude.ai/share/e67506a4-103d-4262-9d69-219f115bba43\n",
    "\n",
    "*6.4\tUso del contenido generado:* Lo ocupe para entender que son los operadores \"/\" y \"//\" \n",
    "\n",
    "*6.5\tRevisión y edición:* Solamente revise la explicación que me dio acerca de los promts que añadi en el punto 6.3. \n",
    "\n",
    "*6.6\tLimitaciones y consideraciones éticas:* no hubo complicación alguna, me ayudo a comprender más acerca de los operadores que estan en Python.\n"
   ]
  },
  {
   "cell_type": "markdown",
   "id": "7e5a13fc",
   "metadata": {},
   "source": [
    "**Fecha de entrega** 22/10/2025"
   ]
  }
 ],
 "metadata": {
  "kernelspec": {
   "display_name": "Python 3",
   "language": "python",
   "name": "python3"
  },
  "language_info": {
   "codemirror_mode": {
    "name": "ipython",
    "version": 3
   },
   "file_extension": ".py",
   "mimetype": "text/x-python",
   "name": "python",
   "nbconvert_exporter": "python",
   "pygments_lexer": "ipython3",
   "version": "3.13.9"
  }
 },
 "nbformat": 4,
 "nbformat_minor": 5
}
