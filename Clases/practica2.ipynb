{
 "cells": [
  {
   "cell_type": "code",
   "execution_count": 192,
   "id": "9ead4c55",
   "metadata": {},
   "outputs": [],
   "source": [
    "frutas=[\"manzana\", \"mango\", \"durazno\", \"peras\", \"uvas\", \"fresa\", \"\"]"
   ]
  },
  {
   "cell_type": "code",
   "execution_count": null,
   "id": "83c4d17f",
   "metadata": {},
   "outputs": [],
   "source": []
  },
  {
   "cell_type": "code",
   "execution_count": null,
   "id": "db9837c0",
   "metadata": {},
   "outputs": [],
   "source": []
  },
  {
   "cell_type": "code",
   "execution_count": null,
   "id": "615ed964",
   "metadata": {},
   "outputs": [],
   "source": []
  },
  {
   "cell_type": "code",
   "execution_count": null,
   "id": "53cd4a53",
   "metadata": {},
   "outputs": [],
   "source": []
  },
  {
   "cell_type": "code",
   "execution_count": 193,
   "id": "083c3596",
   "metadata": {},
   "outputs": [
    {
     "name": "stdout",
     "output_type": "stream",
     "text": [
      "['manzana', 'mango', 'durazno', 'peras', 'uvas', 'fresa', '', 'uvas']\n"
     ]
    }
   ],
   "source": [
    "frutas.append('uvas')\n",
    "print(frutas)"
   ]
  },
  {
   "cell_type": "code",
   "execution_count": null,
   "id": "26cec79b",
   "metadata": {},
   "outputs": [],
   "source": []
  },
  {
   "cell_type": "code",
   "execution_count": 194,
   "id": "2335027e",
   "metadata": {},
   "outputs": [],
   "source": [
    "frutas.append(['uvas', 'mora'])"
   ]
  },
  {
   "cell_type": "code",
   "execution_count": 195,
   "id": "c4de1f2b",
   "metadata": {},
   "outputs": [
    {
     "data": {
      "text/plain": [
       "['manzana',\n",
       " 'mango',\n",
       " 'durazno',\n",
       " 'peras',\n",
       " 'uvas',\n",
       " 'fresa',\n",
       " '',\n",
       " 'uvas',\n",
       " ['uvas', 'mora']]"
      ]
     },
     "execution_count": 195,
     "metadata": {},
     "output_type": "execute_result"
    }
   ],
   "source": [
    "frutas"
   ]
  },
  {
   "cell_type": "code",
   "execution_count": 196,
   "id": "dc95cf02",
   "metadata": {},
   "outputs": [
    {
     "data": {
      "text/plain": [
       "['uvas', 'mora']"
      ]
     },
     "execution_count": 196,
     "metadata": {},
     "output_type": "execute_result"
    }
   ],
   "source": [
    "frutas[-1]"
   ]
  },
  {
   "cell_type": "code",
   "execution_count": 197,
   "id": "14bce38c",
   "metadata": {},
   "outputs": [
    {
     "data": {
      "text/plain": [
       "list"
      ]
     },
     "execution_count": 197,
     "metadata": {},
     "output_type": "execute_result"
    }
   ],
   "source": [
    "type(frutas[-1])"
   ]
  },
  {
   "cell_type": "code",
   "execution_count": 198,
   "id": "eb59aa69",
   "metadata": {},
   "outputs": [
    {
     "data": {
      "text/plain": [
       "9"
      ]
     },
     "execution_count": 198,
     "metadata": {},
     "output_type": "execute_result"
    }
   ],
   "source": [
    "len(frutas)"
   ]
  },
  {
   "cell_type": "code",
   "execution_count": 199,
   "id": "777c35e7",
   "metadata": {},
   "outputs": [
    {
     "data": {
      "text/plain": [
       "'uvas'"
      ]
     },
     "execution_count": 199,
     "metadata": {},
     "output_type": "execute_result"
    }
   ],
   "source": [
    "frutas[-1] [0]"
   ]
  },
  {
   "cell_type": "code",
   "execution_count": 200,
   "id": "6da025e1",
   "metadata": {},
   "outputs": [],
   "source": [
    "frutas[-1] [0] = 'sandia'"
   ]
  },
  {
   "cell_type": "code",
   "execution_count": 201,
   "id": "7b921f28",
   "metadata": {},
   "outputs": [
    {
     "data": {
      "text/plain": [
       "['manzana',\n",
       " 'mango',\n",
       " 'durazno',\n",
       " 'peras',\n",
       " 'uvas',\n",
       " 'fresa',\n",
       " '',\n",
       " 'uvas',\n",
       " ['sandia', 'mora']]"
      ]
     },
     "execution_count": 201,
     "metadata": {},
     "output_type": "execute_result"
    }
   ],
   "source": [
    "frutas"
   ]
  },
  {
   "cell_type": "markdown",
   "id": "f8f410e8",
   "metadata": {},
   "source": [
    "Slicing"
   ]
  },
  {
   "cell_type": "code",
   "execution_count": 202,
   "id": "ef0bb8e9",
   "metadata": {},
   "outputs": [
    {
     "data": {
      "text/plain": [
       "['manzana', 'mango', 'durazno']"
      ]
     },
     "execution_count": 202,
     "metadata": {},
     "output_type": "execute_result"
    }
   ],
   "source": [
    "frutas[0:3]"
   ]
  },
  {
   "cell_type": "code",
   "execution_count": 203,
   "id": "c7999783",
   "metadata": {},
   "outputs": [
    {
     "data": {
      "text/plain": [
       "['peras', 'uvas', 'fresa', '']"
      ]
     },
     "execution_count": 203,
     "metadata": {},
     "output_type": "execute_result"
    }
   ],
   "source": [
    "frutas[3:7]"
   ]
  },
  {
   "cell_type": "markdown",
   "id": "91ae46b2",
   "metadata": {},
   "source": [
    "Diccionarios"
   ]
  },
  {
   "cell_type": "markdown",
   "id": "bc46cb48",
   "metadata": {},
   "source": [
    "- Un diccionario es una colección desordenada de pares clave-valor. \n",
    "- Las *claves* deben ser únicas e inmutables, mientras que los valores pueden ser de cualquier tipo. *El acceso es solo con claves*\n",
    "- En diccionarios no existen posiciones\n",
    "- En listas se ingresa atraves de posiciones"
   ]
  },
  {
   "cell_type": "code",
   "execution_count": 204,
   "id": "72152112",
   "metadata": {},
   "outputs": [],
   "source": [
    "estudiantes = {10: 'Juan', \n",
    "               20: 'Ana',\n",
    "               30: 'Carolina',\n",
    "               40: 'Luis', \n",
    "               50: 'Pablo'}"
   ]
  },
  {
   "cell_type": "code",
   "execution_count": 205,
   "id": "f73ae163",
   "metadata": {},
   "outputs": [
    {
     "data": {
      "text/plain": [
       "{10: 'Juan', 20: 'Ana', 30: 'Carolina', 40: 'Luis', 50: 'Pablo'}"
      ]
     },
     "execution_count": 205,
     "metadata": {},
     "output_type": "execute_result"
    }
   ],
   "source": [
    "estudiantes"
   ]
  },
  {
   "cell_type": "code",
   "execution_count": 206,
   "id": "bf4535be",
   "metadata": {},
   "outputs": [
    {
     "ename": "KeyError",
     "evalue": "0",
     "output_type": "error",
     "traceback": [
      "\u001b[31m---------------------------------------------------------------------------\u001b[39m",
      "\u001b[31mKeyError\u001b[39m                                  Traceback (most recent call last)",
      "\u001b[36mCell\u001b[39m\u001b[36m \u001b[39m\u001b[32mIn[206]\u001b[39m\u001b[32m, line 1\u001b[39m\n\u001b[32m----> \u001b[39m\u001b[32m1\u001b[39m \u001b[43mestudiantes\u001b[49m\u001b[43m[\u001b[49m\u001b[32;43m0\u001b[39;49m\u001b[43m]\u001b[49m\n",
      "\u001b[31mKeyError\u001b[39m: 0"
     ]
    }
   ],
   "source": [
    "estudiantes[0]"
   ]
  },
  {
   "cell_type": "code",
   "execution_count": null,
   "id": "ae1b4907",
   "metadata": {},
   "outputs": [
    {
     "data": {
      "text/plain": [
       "'Juan'"
      ]
     },
     "execution_count": 70,
     "metadata": {},
     "output_type": "execute_result"
    }
   ],
   "source": [
    "estudiantes[10] "
   ]
  },
  {
   "cell_type": "code",
   "execution_count": null,
   "id": "57a532f6",
   "metadata": {},
   "outputs": [
    {
     "data": {
      "text/plain": [
       "'Luis'"
      ]
     },
     "execution_count": 116,
     "metadata": {},
     "output_type": "execute_result"
    }
   ],
   "source": [
    "estudiantes[40]"
   ]
  },
  {
   "cell_type": "markdown",
   "id": "2f05110b",
   "metadata": {},
   "source": [
    "Lista propia del diccionario"
   ]
  },
  {
   "cell_type": "code",
   "execution_count": null,
   "id": "aa31723f",
   "metadata": {},
   "outputs": [
    {
     "data": {
      "text/plain": [
       "dict_keys([10, 20, 30, 40, 50])"
      ]
     },
     "execution_count": 117,
     "metadata": {},
     "output_type": "execute_result"
    }
   ],
   "source": [
    "estudiantes.keys()  "
   ]
  },
  {
   "cell_type": "code",
   "execution_count": null,
   "id": "27ae4dd1",
   "metadata": {},
   "outputs": [
    {
     "data": {
      "text/plain": [
       "dict_values(['Juan', 'Ana', 'Carolina', 'Luis', 'Pablo'])"
      ]
     },
     "execution_count": 118,
     "metadata": {},
     "output_type": "execute_result"
    }
   ],
   "source": [
    "estudiantes.values()"
   ]
  },
  {
   "cell_type": "code",
   "execution_count": null,
   "id": "e4d87e2f",
   "metadata": {},
   "outputs": [
    {
     "data": {
      "text/plain": [
       "'no hay el nombre'"
      ]
     },
     "execution_count": 119,
     "metadata": {},
     "output_type": "execute_result"
    }
   ],
   "source": [
    "estudiantes.get(100, 'no hay el nombre')"
   ]
  },
  {
   "cell_type": "code",
   "execution_count": null,
   "id": "4e7cd362",
   "metadata": {},
   "outputs": [
    {
     "data": {
      "text/plain": [
       "'Pablo'"
      ]
     },
     "execution_count": 135,
     "metadata": {},
     "output_type": "execute_result"
    }
   ],
   "source": [
    "estudiantes.get(50, 'no hay el nombre')"
   ]
  },
  {
   "cell_type": "markdown",
   "id": "af626335",
   "metadata": {},
   "source": [
    "- Estructura tupla\n",
    "\n",
    "Una tupla es una estructura de datos ordenada e inmutable, lo que significa que:\n",
    "\n",
    "Los elementos tienen un orden fijo (se pueden acceder por índice).\n",
    "\n",
    "No se pueden modificar (agregar, eliminar o cambiar elementos) después de su creación\n",
    "\n",
    "- Si existe posición"
   ]
  },
  {
   "cell_type": "code",
   "execution_count": null,
   "id": "f1c6589d",
   "metadata": {},
   "outputs": [
    {
     "data": {
      "text/plain": [
       "dict_items([(10, 'Juan'), (20, 'Ana'), (30, 'Carolina'), (40, 'Luis'), (50, 'Pablo')])"
      ]
     },
     "execution_count": 137,
     "metadata": {},
     "output_type": "execute_result"
    }
   ],
   "source": [
    "estudiantes.items()"
   ]
  },
  {
   "cell_type": "markdown",
   "id": "b5bf695e",
   "metadata": {},
   "source": [
    "Recorrer una tupla"
   ]
  },
  {
   "cell_type": "code",
   "execution_count": null,
   "id": "c9edb83b",
   "metadata": {},
   "outputs": [
    {
     "name": "stdout",
     "output_type": "stream",
     "text": [
      "(10, 'Juan')\n",
      "(20, 'Ana')\n",
      "(30, 'Carolina')\n",
      "(40, 'Luis')\n",
      "(50, 'Pablo')\n"
     ]
    }
   ],
   "source": [
    "for nombre in estudiantes.items(): \n",
    "    print(nombre)"
   ]
  },
  {
   "cell_type": "code",
   "execution_count": null,
   "id": "4357a69a",
   "metadata": {},
   "outputs": [
    {
     "data": {
      "text/plain": [
       "5"
      ]
     },
     "execution_count": 141,
     "metadata": {},
     "output_type": "execute_result"
    }
   ],
   "source": [
    "len(estudiantes)"
   ]
  },
  {
   "cell_type": "markdown",
   "id": "948b7e06",
   "metadata": {},
   "source": [
    "Configurar el separador / end"
   ]
  },
  {
   "cell_type": "code",
   "execution_count": null,
   "id": "449a5937",
   "metadata": {},
   "outputs": [
    {
     "name": "stdout",
     "output_type": "stream",
     "text": [
      "(10, 'Juan')///(20, 'Ana')///(30, 'Carolina')///(40, 'Luis')///(50, 'Pablo')///"
     ]
    }
   ],
   "source": [
    "for elemento in estudiantes.items(): \n",
    "    print(elemento, end = '///')"
   ]
  },
  {
   "cell_type": "code",
   "execution_count": null,
   "id": "46ee8411",
   "metadata": {},
   "outputs": [
    {
     "name": "stdout",
     "output_type": "stream",
     "text": [
      "10\n",
      "Juan\n",
      "\n",
      "20\n",
      "Ana\n",
      "\n",
      "30\n",
      "Carolina\n",
      "\n",
      "40\n",
      "Luis\n",
      "\n",
      "50\n",
      "Pablo\n",
      "\n"
     ]
    }
   ],
   "source": [
    "for clave, valor in estudiantes.items(): \n",
    "    print(clave)\n",
    "    print(valor)\n",
    "    print()"
   ]
  },
  {
   "cell_type": "markdown",
   "id": "31a4c2ea",
   "metadata": {},
   "source": [
    "Si el nombre de la persona termina en 'a', agregar un apellido"
   ]
  },
  {
   "cell_type": "code",
   "execution_count": null,
   "id": "4620dd9a",
   "metadata": {},
   "outputs": [],
   "source": [
    "estudiantes = {\n",
    "    \"est1\": \"Maria\",\n",
    "    \"est2\": \"Juan\",\n",
    "    \"est3\": \"Lucia\",\n",
    "    \"est4\": \"Carlos\"\n",
    "}\n",
    "\n",
    "for k in estudiantes:\n",
    "    if estudiantes[k].endswith(\"a\"):\n",
    "        estudiantes[k] += \" Gómez\"\n",
    "\n",
    "print(estudiantes)\n"
   ]
  },
  {
   "cell_type": "markdown",
   "id": "5654fca3",
   "metadata": {},
   "source": [
    "Funciones"
   ]
  },
  {
   "cell_type": "code",
   "execution_count": 207,
   "id": "65776c18",
   "metadata": {},
   "outputs": [],
   "source": [
    "def verificar_par(numero):\n",
    "\n",
    "    if numero%2 == 0:\n",
    "        print('el numero es par')\n",
    "        \n",
    "    else:\n",
    "        print('el numero es impar')"
   ]
  },
  {
   "cell_type": "code",
   "execution_count": 208,
   "id": "74a2f7c0",
   "metadata": {},
   "outputs": [
    {
     "name": "stdout",
     "output_type": "stream",
     "text": [
      "el numero es impar\n"
     ]
    }
   ],
   "source": [
    "verificar_par(5)"
   ]
  }
 ],
 "metadata": {
  "kernelspec": {
   "display_name": "Python 3",
   "language": "python",
   "name": "python3"
  },
  "language_info": {
   "codemirror_mode": {
    "name": "ipython",
    "version": 3
   },
   "file_extension": ".py",
   "mimetype": "text/x-python",
   "name": "python",
   "nbconvert_exporter": "python",
   "pygments_lexer": "ipython3",
   "version": "3.13.7"
  }
 },
 "nbformat": 4,
 "nbformat_minor": 5
}
