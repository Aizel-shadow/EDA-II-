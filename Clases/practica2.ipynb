{
 "cells": [
  {
   "cell_type": "code",
   "execution_count": 11,
   "id": "9ead4c55",
   "metadata": {},
   "outputs": [],
   "source": [
    "frutas=[\"manzana\", \"mango\", \"durazno\", \"peras\", \"uvas\", \"fresa\", \"\"]"
   ]
  },
  {
   "cell_type": "code",
   "execution_count": null,
   "id": "83c4d17f",
   "metadata": {},
   "outputs": [],
   "source": []
  },
  {
   "cell_type": "code",
   "execution_count": null,
   "id": "db9837c0",
   "metadata": {},
   "outputs": [],
   "source": []
  },
  {
   "cell_type": "code",
   "execution_count": null,
   "id": "615ed964",
   "metadata": {},
   "outputs": [],
   "source": []
  },
  {
   "cell_type": "code",
   "execution_count": null,
   "id": "53cd4a53",
   "metadata": {},
   "outputs": [],
   "source": []
  },
  {
   "cell_type": "code",
   "execution_count": 12,
   "id": "083c3596",
   "metadata": {},
   "outputs": [
    {
     "name": "stdout",
     "output_type": "stream",
     "text": [
      "['manzana', 'mango', 'durazno', 'peras', 'uvas', 'fresa', '', 'uvas']\n"
     ]
    }
   ],
   "source": [
    "frutas.append('uvas')\n",
    "print(frutas)"
   ]
  },
  {
   "cell_type": "code",
   "execution_count": null,
   "id": "26cec79b",
   "metadata": {},
   "outputs": [],
   "source": []
  },
  {
   "cell_type": "code",
   "execution_count": 13,
   "id": "2335027e",
   "metadata": {},
   "outputs": [],
   "source": [
    "frutas.append(['uvas', 'mora'])"
   ]
  },
  {
   "cell_type": "code",
   "execution_count": 14,
   "id": "c4de1f2b",
   "metadata": {},
   "outputs": [
    {
     "data": {
      "text/plain": [
       "['manzana',\n",
       " 'mango',\n",
       " 'durazno',\n",
       " 'peras',\n",
       " 'uvas',\n",
       " 'fresa',\n",
       " '',\n",
       " 'uvas',\n",
       " ['uvas', 'mora']]"
      ]
     },
     "execution_count": 14,
     "metadata": {},
     "output_type": "execute_result"
    }
   ],
   "source": [
    "frutas"
   ]
  },
  {
   "cell_type": "code",
   "execution_count": 15,
   "id": "dc95cf02",
   "metadata": {},
   "outputs": [
    {
     "data": {
      "text/plain": [
       "['uvas', 'mora']"
      ]
     },
     "execution_count": 15,
     "metadata": {},
     "output_type": "execute_result"
    }
   ],
   "source": [
    "frutas[-1]"
   ]
  },
  {
   "cell_type": "code",
   "execution_count": 16,
   "id": "14bce38c",
   "metadata": {},
   "outputs": [
    {
     "data": {
      "text/plain": [
       "list"
      ]
     },
     "execution_count": 16,
     "metadata": {},
     "output_type": "execute_result"
    }
   ],
   "source": [
    "type(frutas[-1])"
   ]
  },
  {
   "cell_type": "code",
   "execution_count": 17,
   "id": "eb59aa69",
   "metadata": {},
   "outputs": [
    {
     "data": {
      "text/plain": [
       "9"
      ]
     },
     "execution_count": 17,
     "metadata": {},
     "output_type": "execute_result"
    }
   ],
   "source": [
    "len(frutas)"
   ]
  },
  {
   "cell_type": "code",
   "execution_count": 18,
   "id": "777c35e7",
   "metadata": {},
   "outputs": [
    {
     "data": {
      "text/plain": [
       "'uvas'"
      ]
     },
     "execution_count": 18,
     "metadata": {},
     "output_type": "execute_result"
    }
   ],
   "source": [
    "frutas[-1] [0]"
   ]
  },
  {
   "cell_type": "code",
   "execution_count": 19,
   "id": "6da025e1",
   "metadata": {},
   "outputs": [],
   "source": [
    "frutas[-1] [0] = 'sandia'"
   ]
  },
  {
   "cell_type": "code",
   "execution_count": 20,
   "id": "7b921f28",
   "metadata": {},
   "outputs": [
    {
     "data": {
      "text/plain": [
       "['manzana',\n",
       " 'mango',\n",
       " 'durazno',\n",
       " 'peras',\n",
       " 'uvas',\n",
       " 'fresa',\n",
       " '',\n",
       " 'uvas',\n",
       " ['sandia', 'mora']]"
      ]
     },
     "execution_count": 20,
     "metadata": {},
     "output_type": "execute_result"
    }
   ],
   "source": [
    "frutas"
   ]
  },
  {
   "cell_type": "markdown",
   "id": "f8f410e8",
   "metadata": {},
   "source": [
    "Slicing"
   ]
  },
  {
   "cell_type": "code",
   "execution_count": 21,
   "id": "ef0bb8e9",
   "metadata": {},
   "outputs": [
    {
     "data": {
      "text/plain": [
       "['manzana', 'mango', 'durazno']"
      ]
     },
     "execution_count": 21,
     "metadata": {},
     "output_type": "execute_result"
    }
   ],
   "source": [
    "frutas[0:3]"
   ]
  },
  {
   "cell_type": "code",
   "execution_count": 22,
   "id": "c7999783",
   "metadata": {},
   "outputs": [
    {
     "data": {
      "text/plain": [
       "['peras', 'uvas', 'fresa', '']"
      ]
     },
     "execution_count": 22,
     "metadata": {},
     "output_type": "execute_result"
    }
   ],
   "source": [
    "frutas[3:7]"
   ]
  },
  {
   "cell_type": "markdown",
   "id": "91ae46b2",
   "metadata": {},
   "source": [
    "Diccionarios"
   ]
  },
  {
   "cell_type": "code",
   "execution_count": 23,
   "id": "72152112",
   "metadata": {},
   "outputs": [],
   "source": [
    "estudiantes = {1: 'Juan', \n",
    "               2: 'Ana',\n",
    "               3: 'Carolina',\n",
    "               4: 'Luis', \n",
    "               5: 'Pablo'}"
   ]
  },
  {
   "cell_type": "code",
   "execution_count": 24,
   "id": "f73ae163",
   "metadata": {},
   "outputs": [
    {
     "data": {
      "text/plain": [
       "{1: 'Juan', 2: 'Ana', 3: 'Carolina', 4: 'Luis', 5: 'Pablo'}"
      ]
     },
     "execution_count": 24,
     "metadata": {},
     "output_type": "execute_result"
    }
   ],
   "source": [
    "estudiantes"
   ]
  }
 ],
 "metadata": {
  "kernelspec": {
   "display_name": "Python 3",
   "language": "python",
   "name": "python3"
  },
  "language_info": {
   "codemirror_mode": {
    "name": "ipython",
    "version": 3
   },
   "file_extension": ".py",
   "mimetype": "text/x-python",
   "name": "python",
   "nbconvert_exporter": "python",
   "pygments_lexer": "ipython3",
   "version": "3.13.7"
  }
 },
 "nbformat": 4,
 "nbformat_minor": 5
}
